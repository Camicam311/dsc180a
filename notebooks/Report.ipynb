{
 "cells": [
  {
   "cell_type": "code",
   "execution_count": 2,
   "metadata": {},
   "outputs": [],
   "source": [
    "import pandas as pd\n",
    "import numpy as np"
   ]
  },
  {
   "cell_type": "markdown",
   "metadata": {},
   "source": [
    "### Descriptive Statistics"
   ]
  },
  {
   "cell_type": "markdown",
   "metadata": {},
   "source": [
    "The dataset contained roughly 4644568 pages. By following the given format, I was able to parse through the data and find the following statistics. I chose to mainly focus on the 1476605 pages that had any number of reverts, as that was what the paper really focuses on. \n",
    "\n",
    "Out of those 1476605 pages, I found the average number of edits to be around 123, including reverts as individual edits. On average, 14 of those edits were reverts. The most number of reverts was about 15307. Out of these pages, the average M-Statistic was about 613. On average, there were about 0.4337219500137139 mutual editors, so not a whole lot. There were also about 60 editors per artcile.\n",
    "\n",
    "There were roughly 25422 pages that met the \"controversial cutoff,\" with M-Statistics above 1000. Out of those pages, the average M-Statistic was around 34928. And when we look at the average mutual editors in this case, there are about 10 mutual editors in each article, meaning that on average, many of these \"controversial\" articles have mainly a few editors editting out one another. Of course, there are the outliers, which we can see in the top 20 articles section below. The most number of mutual editors was 355 for one article. Additionally, there were on average over 834 editors per controversial article."
   ]
  },
  {
   "cell_type": "code",
   "execution_count": 14,
   "metadata": {},
   "outputs": [],
   "source": [
    "m_stat_df = pd.read_csv('data/out/second_en_wiki_m.txt')"
   ]
  },
  {
   "cell_type": "code",
   "execution_count": 25,
   "metadata": {
    "scrolled": true
   },
   "outputs": [],
   "source": [
    "m_desc_df = pd.read_csv('res2.csv')\n",
    "m_desc_df.columns = ['Title', 'M-Stat', 'Sum', 'Num Mutual Editors', 'Num EditsReverts',\n",
    "       'Num Editors', 'Num Edits']\n",
    "m_desc_df['Num Reverts'] = m_desc_df['Num EditsReverts'] - m_desc_df['Num Edits']"
   ]
  },
  {
   "cell_type": "code",
   "execution_count": 30,
   "metadata": {},
   "outputs": [
    {
     "data": {
      "text/html": [
       "<div>\n",
       "<style scoped>\n",
       "    .dataframe tbody tr th:only-of-type {\n",
       "        vertical-align: middle;\n",
       "    }\n",
       "\n",
       "    .dataframe tbody tr th {\n",
       "        vertical-align: top;\n",
       "    }\n",
       "\n",
       "    .dataframe thead th {\n",
       "        text-align: right;\n",
       "    }\n",
       "</style>\n",
       "<table border=\"1\" class=\"dataframe\">\n",
       "  <thead>\n",
       "    <tr style=\"text-align: right;\">\n",
       "      <th></th>\n",
       "      <th>Title</th>\n",
       "      <th>M-Stat</th>\n",
       "      <th>Sum</th>\n",
       "      <th>Num Mutual Editors</th>\n",
       "      <th>Num EditsReverts</th>\n",
       "      <th>Num Editors</th>\n",
       "      <th>Num Edits</th>\n",
       "      <th>Num Reverts</th>\n",
       "    </tr>\n",
       "  </thead>\n",
       "  <tbody>\n",
       "    <tr>\n",
       "      <th>0</th>\n",
       "      <td>Runbox</td>\n",
       "      <td>0</td>\n",
       "      <td>4</td>\n",
       "      <td>0</td>\n",
       "      <td>94</td>\n",
       "      <td>44</td>\n",
       "      <td>89</td>\n",
       "      <td>5</td>\n",
       "    </tr>\n",
       "    <tr>\n",
       "      <th>1</th>\n",
       "      <td>Dahil_Minahal_Mo_Ako</td>\n",
       "      <td>0</td>\n",
       "      <td>0</td>\n",
       "      <td>0</td>\n",
       "      <td>4</td>\n",
       "      <td>2</td>\n",
       "      <td>3</td>\n",
       "      <td>1</td>\n",
       "    </tr>\n",
       "    <tr>\n",
       "      <th>2</th>\n",
       "      <td>B.A.N_MONDAYS_CHERRY_MARTINEZ</td>\n",
       "      <td>0</td>\n",
       "      <td>0</td>\n",
       "      <td>0</td>\n",
       "      <td>8</td>\n",
       "      <td>3</td>\n",
       "      <td>7</td>\n",
       "      <td>1</td>\n",
       "    </tr>\n",
       "    <tr>\n",
       "      <th>3</th>\n",
       "      <td>Bill_Clymer</td>\n",
       "      <td>0</td>\n",
       "      <td>0</td>\n",
       "      <td>0</td>\n",
       "      <td>5</td>\n",
       "      <td>3</td>\n",
       "      <td>3</td>\n",
       "      <td>2</td>\n",
       "    </tr>\n",
       "    <tr>\n",
       "      <th>4</th>\n",
       "      <td>Sayed_Mansoor_Naderi</td>\n",
       "      <td>0</td>\n",
       "      <td>0</td>\n",
       "      <td>0</td>\n",
       "      <td>14</td>\n",
       "      <td>3</td>\n",
       "      <td>13</td>\n",
       "      <td>1</td>\n",
       "    </tr>\n",
       "  </tbody>\n",
       "</table>\n",
       "</div>"
      ],
      "text/plain": [
       "                           Title  M-Stat  Sum  Num Mutual Editors  \\\n",
       "0                         Runbox       0    4                   0   \n",
       "1           Dahil_Minahal_Mo_Ako       0    0                   0   \n",
       "2  B.A.N_MONDAYS_CHERRY_MARTINEZ       0    0                   0   \n",
       "3                    Bill_Clymer       0    0                   0   \n",
       "4           Sayed_Mansoor_Naderi       0    0                   0   \n",
       "\n",
       "   Num EditsReverts  Num Editors  Num Edits  Num Reverts  \n",
       "0                94           44         89            5  \n",
       "1                 4            2          3            1  \n",
       "2                 8            3          7            1  \n",
       "3                 5            3          3            2  \n",
       "4                14            3         13            1  "
      ]
     },
     "execution_count": 30,
     "metadata": {},
     "output_type": "execute_result"
    }
   ],
   "source": [
    "m_desc_df.head()"
   ]
  },
  {
   "cell_type": "markdown",
   "metadata": {},
   "source": [
    "##### Number of Pages"
   ]
  },
  {
   "cell_type": "code",
   "execution_count": 11,
   "metadata": {},
   "outputs": [
    {
     "data": {
      "text/plain": [
       "4644568"
      ]
     },
     "execution_count": 11,
     "metadata": {},
     "output_type": "execute_result"
    }
   ],
   "source": [
    "m_stat_df.shape[0]"
   ]
  },
  {
   "cell_type": "markdown",
   "metadata": {},
   "source": [
    "##### Number of Pages with Reverts"
   ]
  },
  {
   "cell_type": "code",
   "execution_count": 16,
   "metadata": {},
   "outputs": [
    {
     "data": {
      "text/plain": [
       "1476605"
      ]
     },
     "execution_count": 16,
     "metadata": {},
     "output_type": "execute_result"
    }
   ],
   "source": [
    "m_desc_df.shape[0]"
   ]
  },
  {
   "cell_type": "markdown",
   "metadata": {},
   "source": [
    "##### Average Number of Edits (Including Reverts) for Pages with Reverts (fPwR)"
   ]
  },
  {
   "cell_type": "code",
   "execution_count": 43,
   "metadata": {},
   "outputs": [
    {
     "data": {
      "text/plain": [
       "123.18940136326235"
      ]
     },
     "execution_count": 43,
     "metadata": {},
     "output_type": "execute_result"
    }
   ],
   "source": [
    "m_desc_df['Num EditsReverts'].mean()"
   ]
  },
  {
   "cell_type": "markdown",
   "metadata": {},
   "source": [
    "##### Average Number of Reverts fPwR"
   ]
  },
  {
   "cell_type": "code",
   "execution_count": 47,
   "metadata": {},
   "outputs": [
    {
     "data": {
      "text/plain": [
       "14.840691315551553"
      ]
     },
     "execution_count": 47,
     "metadata": {},
     "output_type": "execute_result"
    }
   ],
   "source": [
    "m_desc_df['Num Reverts'].mean()"
   ]
  },
  {
   "cell_type": "markdown",
   "metadata": {},
   "source": [
    "##### Max Number of Reverts fPwR"
   ]
  },
  {
   "cell_type": "code",
   "execution_count": 48,
   "metadata": {},
   "outputs": [
    {
     "data": {
      "text/plain": [
       "15307"
      ]
     },
     "execution_count": 48,
     "metadata": {},
     "output_type": "execute_result"
    }
   ],
   "source": [
    "m_desc_df['Num Reverts'].max()"
   ]
  },
  {
   "cell_type": "markdown",
   "metadata": {},
   "source": [
    "##### Average M Statistic fPwR"
   ]
  },
  {
   "cell_type": "code",
   "execution_count": 29,
   "metadata": {},
   "outputs": [
    {
     "data": {
      "text/plain": [
       "613.0619116148191"
      ]
     },
     "execution_count": 29,
     "metadata": {},
     "output_type": "execute_result"
    }
   ],
   "source": [
    "m_desc_df['M-Stat'].mean()"
   ]
  },
  {
   "cell_type": "markdown",
   "metadata": {},
   "source": [
    "##### Average Number of Mutual Editors fPwR"
   ]
  },
  {
   "cell_type": "code",
   "execution_count": 31,
   "metadata": {},
   "outputs": [
    {
     "data": {
      "text/plain": [
       "0.4337219500137139"
      ]
     },
     "execution_count": 31,
     "metadata": {},
     "output_type": "execute_result"
    }
   ],
   "source": [
    "m_desc_df['Num Mutual Editors'].mean()"
   ]
  },
  {
   "cell_type": "markdown",
   "metadata": {},
   "source": [
    "##### Most Number of Mutual Editors fPwR"
   ]
  },
  {
   "cell_type": "code",
   "execution_count": 32,
   "metadata": {},
   "outputs": [
    {
     "data": {
      "text/plain": [
       "355"
      ]
     },
     "execution_count": 32,
     "metadata": {},
     "output_type": "execute_result"
    }
   ],
   "source": [
    "m_desc_df['Num Mutual Editors'].max()"
   ]
  },
  {
   "cell_type": "markdown",
   "metadata": {},
   "source": [
    "##### Average Number of Editors fPwR"
   ]
  },
  {
   "cell_type": "code",
   "execution_count": 42,
   "metadata": {},
   "outputs": [
    {
     "data": {
      "text/plain": [
       "60.30800992817984"
      ]
     },
     "execution_count": 42,
     "metadata": {},
     "output_type": "execute_result"
    }
   ],
   "source": [
    "m_desc_df['Num Editors'].mean()"
   ]
  },
  {
   "cell_type": "markdown",
   "metadata": {},
   "source": [
    "##### Number of Controversial Pages"
   ]
  },
  {
   "cell_type": "code",
   "execution_count": 50,
   "metadata": {},
   "outputs": [
    {
     "data": {
      "text/plain": [
       "25422"
      ]
     },
     "execution_count": 50,
     "metadata": {},
     "output_type": "execute_result"
    }
   ],
   "source": [
    "(m_desc_df['M-Stat'] > 1000).sum()"
   ]
  },
  {
   "cell_type": "markdown",
   "metadata": {},
   "source": [
    "##### Average M-Statistic from Controversial Pages"
   ]
  },
  {
   "cell_type": "code",
   "execution_count": 51,
   "metadata": {},
   "outputs": [
    {
     "data": {
      "text/plain": [
       "34928.322948627174"
      ]
     },
     "execution_count": 51,
     "metadata": {},
     "output_type": "execute_result"
    }
   ],
   "source": [
    "controversial_mask = m_desc_df['M-Stat'] > 1000\n",
    "m_desc_df[controversial_mask]['M-Stat'].mean()"
   ]
  },
  {
   "cell_type": "markdown",
   "metadata": {},
   "source": [
    "##### Average Number of Mutual Editors from Controversial Pages"
   ]
  },
  {
   "cell_type": "code",
   "execution_count": 52,
   "metadata": {},
   "outputs": [
    {
     "data": {
      "text/plain": [
       "10.568247974195579"
      ]
     },
     "execution_count": 52,
     "metadata": {},
     "output_type": "execute_result"
    }
   ],
   "source": [
    "m_desc_df[controversial_mask]['Num Mutual Editors'].mean()"
   ]
  },
  {
   "cell_type": "markdown",
   "metadata": {},
   "source": [
    "##### Average Number of Editors from Controversial Pages"
   ]
  },
  {
   "cell_type": "code",
   "execution_count": 53,
   "metadata": {},
   "outputs": [
    {
     "data": {
      "text/plain": [
       "834.9140901581308"
      ]
     },
     "execution_count": 53,
     "metadata": {},
     "output_type": "execute_result"
    }
   ],
   "source": [
    "m_desc_df[controversial_mask]['Num Editors'].mean()"
   ]
  },
  {
   "cell_type": "markdown",
   "metadata": {},
   "source": [
    "### Top/Bottom 20 M-Statistic\n",
    "The top 20 articles in terms of their M-Statistic can be seen in the table below. They do not adimittedly match up exactly with the results found directly on the source website, but I believe this is due to different interpretations and calculations of the M-Statistic. As I mentioned in a Piazza post, the reference code's summation only summed up the pairs of editors that were mutual editors of one another and ignored all pairs of editors that were not mutual editors of one another. I, on the other hand, summed up all editors that had any revert, regardless of whether they were mutual reverters. Additionally, the reference code only counted those mutual pair edits at most once, even though the mutual pair may have edited each other multiple times (i.e. it only takes the minimum of the mutual pair once for the final sum). I counted these mutual pairs multiple times and used them as part of the summation for the number of times they reverted one another. Additionally, the code's sum does not account for the maximum like in the equation from the paper. I chose to remove any amount that was equal to the maximum, meaning possibly multiple pairs would have been removed for having equal maximums.\n",
    "\n",
    "These discrepencies and many that could have occured in a missed translation from the paper's interpretability resulted in an, on average, higher number of controversial articles, with almost double the amount found on the website. However, this can be tweaked by changing the cutoff. And regardless, the top 20 is relatively similar to that of the paper's, with some slight shuffling. And the top few articles that showed up on my list and not theirs are very controversial, like the \"Wikipedia\" article (literally called Wikipedia) and the Lebanon War.\n",
    "\n",
    "The bottom 20 I listed were not significant really in any way. They had low M-Statistics and are not very controversial, with few edits and reverts."
   ]
  },
  {
   "cell_type": "code",
   "execution_count": 3,
   "metadata": {},
   "outputs": [],
   "source": [
    "bottom_20 = m_stat_df.head(20)"
   ]
  },
  {
   "cell_type": "code",
   "execution_count": 4,
   "metadata": {},
   "outputs": [],
   "source": [
    "m_stat_df = m_stat_df.sort_values('Statistic', ascending=False)"
   ]
  },
  {
   "cell_type": "code",
   "execution_count": 5,
   "metadata": {},
   "outputs": [],
   "source": [
    "top_20 = m_stat_df.iloc[:20]"
   ]
  },
  {
   "cell_type": "code",
   "execution_count": 6,
   "metadata": {
    "scrolled": true
   },
   "outputs": [
    {
     "data": {
      "text/html": [
       "<div>\n",
       "<style scoped>\n",
       "    .dataframe tbody tr th:only-of-type {\n",
       "        vertical-align: middle;\n",
       "    }\n",
       "\n",
       "    .dataframe tbody tr th {\n",
       "        vertical-align: top;\n",
       "    }\n",
       "\n",
       "    .dataframe thead th {\n",
       "        text-align: right;\n",
       "    }\n",
       "</style>\n",
       "<table border=\"1\" class=\"dataframe\">\n",
       "  <thead>\n",
       "    <tr style=\"text-align: right;\">\n",
       "      <th></th>\n",
       "      <th>Title_ID</th>\n",
       "      <th>Title</th>\n",
       "      <th>Statistic</th>\n",
       "    </tr>\n",
       "  </thead>\n",
       "  <tbody>\n",
       "    <tr>\n",
       "      <th>3414534</th>\n",
       "      <td>3414534</td>\n",
       "      <td>George_W._Bush</td>\n",
       "      <td>34813075</td>\n",
       "    </tr>\n",
       "    <tr>\n",
       "      <th>3713406</th>\n",
       "      <td>3713406</td>\n",
       "      <td>List_of_World_Wrestling_Entertainment_employees</td>\n",
       "      <td>21728308</td>\n",
       "    </tr>\n",
       "    <tr>\n",
       "      <th>4644567</th>\n",
       "      <td>4644567</td>\n",
       "      <td>Anarchism</td>\n",
       "      <td>20108760</td>\n",
       "    </tr>\n",
       "    <tr>\n",
       "      <th>4632036</th>\n",
       "      <td>4632036</td>\n",
       "      <td>Muhammad</td>\n",
       "      <td>13696900</td>\n",
       "    </tr>\n",
       "    <tr>\n",
       "      <th>4347330</th>\n",
       "      <td>4347330</td>\n",
       "      <td>Barack_Obama</td>\n",
       "      <td>10713048</td>\n",
       "    </tr>\n",
       "    <tr>\n",
       "      <th>3046859</th>\n",
       "      <td>3046859</td>\n",
       "      <td>Global_warming</td>\n",
       "      <td>9387070</td>\n",
       "    </tr>\n",
       "    <tr>\n",
       "      <th>2384506</th>\n",
       "      <td>2384506</td>\n",
       "      <td>Circumcision</td>\n",
       "      <td>8561498</td>\n",
       "    </tr>\n",
       "    <tr>\n",
       "      <th>3409820</th>\n",
       "      <td>3409820</td>\n",
       "      <td>United_States</td>\n",
       "      <td>7448470</td>\n",
       "    </tr>\n",
       "    <tr>\n",
       "      <th>4128707</th>\n",
       "      <td>4128707</td>\n",
       "      <td>Jesus</td>\n",
       "      <td>7403452</td>\n",
       "    </tr>\n",
       "    <tr>\n",
       "      <th>1462062</th>\n",
       "      <td>1462062</td>\n",
       "      <td>Michael_Jackson</td>\n",
       "      <td>6798324</td>\n",
       "    </tr>\n",
       "    <tr>\n",
       "      <th>4626756</th>\n",
       "      <td>4626756</td>\n",
       "      <td>Race_and_intelligence</td>\n",
       "      <td>6266760</td>\n",
       "    </tr>\n",
       "    <tr>\n",
       "      <th>4641362</th>\n",
       "      <td>4641362</td>\n",
       "      <td>Christianity</td>\n",
       "      <td>5912382</td>\n",
       "    </tr>\n",
       "    <tr>\n",
       "      <th>2834591</th>\n",
       "      <td>2834591</td>\n",
       "      <td>Islam</td>\n",
       "      <td>5674900</td>\n",
       "    </tr>\n",
       "    <tr>\n",
       "      <th>3595665</th>\n",
       "      <td>3595665</td>\n",
       "      <td>Adolf_Hitler</td>\n",
       "      <td>5352642</td>\n",
       "    </tr>\n",
       "    <tr>\n",
       "      <th>4607604</th>\n",
       "      <td>4607604</td>\n",
       "      <td>Falun_Gong</td>\n",
       "      <td>4498520</td>\n",
       "    </tr>\n",
       "    <tr>\n",
       "      <th>4639678</th>\n",
       "      <td>4639678</td>\n",
       "      <td>Chiropractic</td>\n",
       "      <td>4420364</td>\n",
       "    </tr>\n",
       "    <tr>\n",
       "      <th>3043879</th>\n",
       "      <td>3043879</td>\n",
       "      <td>September_11_attacks</td>\n",
       "      <td>4229020</td>\n",
       "    </tr>\n",
       "    <tr>\n",
       "      <th>2782689</th>\n",
       "      <td>2782689</td>\n",
       "      <td>2006_Lebanon_War</td>\n",
       "      <td>3980830</td>\n",
       "    </tr>\n",
       "    <tr>\n",
       "      <th>3046668</th>\n",
       "      <td>3046668</td>\n",
       "      <td>Wikipedia</td>\n",
       "      <td>3886632</td>\n",
       "    </tr>\n",
       "    <tr>\n",
       "      <th>4633094</th>\n",
       "      <td>4633094</td>\n",
       "      <td>Kosovo</td>\n",
       "      <td>3760680</td>\n",
       "    </tr>\n",
       "  </tbody>\n",
       "</table>\n",
       "</div>"
      ],
      "text/plain": [
       "         Title_ID                                            Title  Statistic\n",
       "3414534   3414534                                   George_W._Bush   34813075\n",
       "3713406   3713406  List_of_World_Wrestling_Entertainment_employees   21728308\n",
       "4644567   4644567                                        Anarchism   20108760\n",
       "4632036   4632036                                         Muhammad   13696900\n",
       "4347330   4347330                                     Barack_Obama   10713048\n",
       "3046859   3046859                                   Global_warming    9387070\n",
       "2384506   2384506                                     Circumcision    8561498\n",
       "3409820   3409820                                    United_States    7448470\n",
       "4128707   4128707                                            Jesus    7403452\n",
       "1462062   1462062                                  Michael_Jackson    6798324\n",
       "4626756   4626756                            Race_and_intelligence    6266760\n",
       "4641362   4641362                                     Christianity    5912382\n",
       "2834591   2834591                                            Islam    5674900\n",
       "3595665   3595665                                     Adolf_Hitler    5352642\n",
       "4607604   4607604                                       Falun_Gong    4498520\n",
       "4639678   4639678                                     Chiropractic    4420364\n",
       "3043879   3043879                             September_11_attacks    4229020\n",
       "2782689   2782689                                 2006_Lebanon_War    3980830\n",
       "3046668   3046668                                        Wikipedia    3886632\n",
       "4633094   4633094                                           Kosovo    3760680"
      ]
     },
     "execution_count": 6,
     "metadata": {},
     "output_type": "execute_result"
    }
   ],
   "source": [
    "top_20"
   ]
  },
  {
   "cell_type": "code",
   "execution_count": 7,
   "metadata": {
    "scrolled": true
   },
   "outputs": [
    {
     "data": {
      "text/html": [
       "<div>\n",
       "<style scoped>\n",
       "    .dataframe tbody tr th:only-of-type {\n",
       "        vertical-align: middle;\n",
       "    }\n",
       "\n",
       "    .dataframe tbody tr th {\n",
       "        vertical-align: top;\n",
       "    }\n",
       "\n",
       "    .dataframe thead th {\n",
       "        text-align: right;\n",
       "    }\n",
       "</style>\n",
       "<table border=\"1\" class=\"dataframe\">\n",
       "  <thead>\n",
       "    <tr style=\"text-align: right;\">\n",
       "      <th></th>\n",
       "      <th>Title_ID</th>\n",
       "      <th>Title</th>\n",
       "      <th>Statistic</th>\n",
       "    </tr>\n",
       "  </thead>\n",
       "  <tbody>\n",
       "    <tr>\n",
       "      <th>0</th>\n",
       "      <td>0</td>\n",
       "      <td>Blackboard</td>\n",
       "      <td>0</td>\n",
       "    </tr>\n",
       "    <tr>\n",
       "      <th>1</th>\n",
       "      <td>1</td>\n",
       "      <td>Coimbatore_tile_company</td>\n",
       "      <td>0</td>\n",
       "    </tr>\n",
       "    <tr>\n",
       "      <th>2</th>\n",
       "      <td>2</td>\n",
       "      <td>The_moonstone_2</td>\n",
       "      <td>0</td>\n",
       "    </tr>\n",
       "    <tr>\n",
       "      <th>3</th>\n",
       "      <td>3</td>\n",
       "      <td>African_Hunting_Wasps</td>\n",
       "      <td>0</td>\n",
       "    </tr>\n",
       "    <tr>\n",
       "      <th>4</th>\n",
       "      <td>4</td>\n",
       "      <td>Morgan_Sheardown</td>\n",
       "      <td>0</td>\n",
       "    </tr>\n",
       "    <tr>\n",
       "      <th>5</th>\n",
       "      <td>5</td>\n",
       "      <td>Hymenocaris</td>\n",
       "      <td>0</td>\n",
       "    </tr>\n",
       "    <tr>\n",
       "      <th>6</th>\n",
       "      <td>6</td>\n",
       "      <td>Erica_barstein</td>\n",
       "      <td>0</td>\n",
       "    </tr>\n",
       "    <tr>\n",
       "      <th>7</th>\n",
       "      <td>7</td>\n",
       "      <td>Ben_clarke</td>\n",
       "      <td>0</td>\n",
       "    </tr>\n",
       "    <tr>\n",
       "      <th>8</th>\n",
       "      <td>8</td>\n",
       "      <td>British_association_for_cognitive_and_behaviou...</td>\n",
       "      <td>0</td>\n",
       "    </tr>\n",
       "    <tr>\n",
       "      <th>9</th>\n",
       "      <td>9</td>\n",
       "      <td>Ocportal</td>\n",
       "      <td>0</td>\n",
       "    </tr>\n",
       "    <tr>\n",
       "      <th>10</th>\n",
       "      <td>10</td>\n",
       "      <td>British_Association_for_Cognitive_and_Behaviou...</td>\n",
       "      <td>0</td>\n",
       "    </tr>\n",
       "    <tr>\n",
       "      <th>11</th>\n",
       "      <td>11</td>\n",
       "      <td>Onemorelevel</td>\n",
       "      <td>0</td>\n",
       "    </tr>\n",
       "    <tr>\n",
       "      <th>12</th>\n",
       "      <td>12</td>\n",
       "      <td>Flake_ice_machine</td>\n",
       "      <td>0</td>\n",
       "    </tr>\n",
       "    <tr>\n",
       "      <th>13</th>\n",
       "      <td>13</td>\n",
       "      <td>Andre_Andrade</td>\n",
       "      <td>0</td>\n",
       "    </tr>\n",
       "    <tr>\n",
       "      <th>14</th>\n",
       "      <td>14</td>\n",
       "      <td>Andrew_K_Skinner</td>\n",
       "      <td>0</td>\n",
       "    </tr>\n",
       "    <tr>\n",
       "      <th>15</th>\n",
       "      <td>15</td>\n",
       "      <td>Lock_thief</td>\n",
       "      <td>0</td>\n",
       "    </tr>\n",
       "    <tr>\n",
       "      <th>16</th>\n",
       "      <td>16</td>\n",
       "      <td>Enrico_Scarampi</td>\n",
       "      <td>0</td>\n",
       "    </tr>\n",
       "    <tr>\n",
       "      <th>17</th>\n",
       "      <td>17</td>\n",
       "      <td>Perfect_Week</td>\n",
       "      <td>0</td>\n",
       "    </tr>\n",
       "    <tr>\n",
       "      <th>18</th>\n",
       "      <td>18</td>\n",
       "      <td>Alexander_Grant_Ruthven</td>\n",
       "      <td>0</td>\n",
       "    </tr>\n",
       "    <tr>\n",
       "      <th>19</th>\n",
       "      <td>19</td>\n",
       "      <td>Number_Theory_-The_Queen_of_Mathematics</td>\n",
       "      <td>0</td>\n",
       "    </tr>\n",
       "  </tbody>\n",
       "</table>\n",
       "</div>"
      ],
      "text/plain": [
       "    Title_ID                                              Title  Statistic\n",
       "0          0                                         Blackboard          0\n",
       "1          1                            Coimbatore_tile_company          0\n",
       "2          2                                    The_moonstone_2          0\n",
       "3          3                              African_Hunting_Wasps          0\n",
       "4          4                                   Morgan_Sheardown          0\n",
       "5          5                                        Hymenocaris          0\n",
       "6          6                                     Erica_barstein          0\n",
       "7          7                                         Ben_clarke          0\n",
       "8          8  British_association_for_cognitive_and_behaviou...          0\n",
       "9          9                                           Ocportal          0\n",
       "10        10  British_Association_for_Cognitive_and_Behaviou...          0\n",
       "11        11                                       Onemorelevel          0\n",
       "12        12                                  Flake_ice_machine          0\n",
       "13        13                                      Andre_Andrade          0\n",
       "14        14                                   Andrew_K_Skinner          0\n",
       "15        15                                         Lock_thief          0\n",
       "16        16                                    Enrico_Scarampi          0\n",
       "17        17                                       Perfect_Week          0\n",
       "18        18                            Alexander_Grant_Ruthven          0\n",
       "19        19            Number_Theory_-The_Queen_of_Mathematics          0"
      ]
     },
     "execution_count": 7,
     "metadata": {},
     "output_type": "execute_result"
    }
   ],
   "source": [
    "bottom_20"
   ]
  },
  {
   "cell_type": "markdown",
   "metadata": {},
   "source": [
    "### Plot of Abraham Lincoln over Time\n",
    "We can see certain spikes in the M-Statistic, which likely correlate to specific times of heavy editing."
   ]
  },
  {
   "cell_type": "code",
   "execution_count": 8,
   "metadata": {},
   "outputs": [],
   "source": [
    "abe_df = pd.read_csv('data/out/overtime_abe.txt')\n",
    "abe_df['Date'] = pd.to_datetime(abe_df['Timestamp']).dt.date"
   ]
  },
  {
   "cell_type": "code",
   "execution_count": 11,
   "metadata": {},
   "outputs": [
    {
     "data": {
      "text/plain": [
       "<matplotlib.axes._subplots.AxesSubplot at 0x7fa6eb7c1470>"
      ]
     },
     "execution_count": 11,
     "metadata": {},
     "output_type": "execute_result"
    },
    {
     "data": {
      "image/png": "[encoded data removed]",
      "text/plain": [
       "<Figure size 432x288 with 1 Axes>"
      ]
     },
     "metadata": {
      "needs_background": "light"
     },
     "output_type": "display_data"
    }
   ],
   "source": [
    "abe_df.plot.line(x='Date', y='M-Statistic')"
   ]
  },
  {
   "cell_type": "markdown",
   "metadata": {},
   "source": [
    "### Plot of Anarchism over Time\n",
    "We can see certain spikes in the M-Statistic, which likely correlate to specific times of heavy editing."
   ]
  },
  {
   "cell_type": "code",
   "execution_count": 10,
   "metadata": {},
   "outputs": [],
   "source": [
    "anar_df = pd.read_csv('data/out/overtime_anarchism.txt')\n",
    "anar_df['Date'] = pd.to_datetime(anar_df['Timestamp']).dt.date"
   ]
  },
  {
   "cell_type": "code",
   "execution_count": 12,
   "metadata": {},
   "outputs": [
    {
     "data": {
      "text/plain": [
       "<matplotlib.axes._subplots.AxesSubplot at 0x7fa6eb728240>"
      ]
     },
     "execution_count": 12,
     "metadata": {},
     "output_type": "execute_result"
    },
    {
     "data": {
      "image/png": "[encoded data removed]",
      "text/plain": [
       "<Figure size 432x288 with 1 Axes>"
      ]
     },
     "metadata": {
      "needs_background": "light"
     },
     "output_type": "display_data"
    }
   ],
   "source": [
    "anar_df.plot.line(x='Date', y='M-Statistic')"
   ]
  },
  {
   "cell_type": "markdown",
   "metadata": {},
   "source": [
    "##### (Raw Data to Light Dump Revisited)\n",
    "I refractored the code to be able to mimic this. You can see this in the test/Revisited_Evidence folder in the codebase. "
   ]
  }
 ],
 "metadata": {
  "kernelspec": {
   "display_name": "Python 3",
   "language": "python",
   "name": "python3"
  },
  "language_info": {
   "codemirror_mode": {
    "name": "ipython",
    "version": 3
   },
   "file_extension": ".py",
   "mimetype": "text/x-python",
   "name": "python",
   "nbconvert_exporter": "python",
   "pygments_lexer": "ipython3",
   "version": "3.7.3"
  }
 },
 "nbformat": 4,
 "nbformat_minor": 2
}
