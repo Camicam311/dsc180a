{
 "cells": [
  {
   "cell_type": "code",
   "execution_count": 1,
   "metadata": {},
   "outputs": [],
   "source": [
    "import pandas as pd\n",
    "import numpy as np\n",
    "import sys\n",
    "import os"
   ]
  },
  {
   "cell_type": "code",
   "execution_count": 2,
   "metadata": {},
   "outputs": [
    {
     "name": "stderr",
     "output_type": "stream",
     "text": [
      "/Library/Frameworks/Python.framework/Versions/3.7/lib/python3.7/site-packages/numpy/lib/arraysetops.py:569: FutureWarning: elementwise comparison failed; returning scalar instead, but in the future will perform elementwise comparison\n",
      "  mask |= (ar1 == a)\n"
     ]
    }
   ],
   "source": [
    "m_stat_df = pd.read_csv('../data/out_m_stat/m-stat-en_wiki.csv', index_col=0).dropna()\n",
    "m_stat_df.rename(columns={'Nums Reverts': 'Num Reverts'}, inplace=True)\n",
    "m_stat_df['Num Non-Revert Edits'] = m_stat_df['Num Edits'] - m_stat_df['Num Reverts']"
   ]
  },
  {
   "cell_type": "code",
   "execution_count": 3,
   "metadata": {},
   "outputs": [
    {
     "data": {
      "text/html": [
       "<div>\n",
       "<style scoped>\n",
       "    .dataframe tbody tr th:only-of-type {\n",
       "        vertical-align: middle;\n",
       "    }\n",
       "\n",
       "    .dataframe tbody tr th {\n",
       "        vertical-align: top;\n",
       "    }\n",
       "\n",
       "    .dataframe thead th {\n",
       "        text-align: right;\n",
       "    }\n",
       "</style>\n",
       "<table border=\"1\" class=\"dataframe\">\n",
       "  <thead>\n",
       "    <tr style=\"text-align: right;\">\n",
       "      <th></th>\n",
       "      <th>Title</th>\n",
       "      <th>M-Statistic</th>\n",
       "      <th>Num Edits</th>\n",
       "      <th>Num Reverts</th>\n",
       "      <th>Num Editors</th>\n",
       "      <th>Num Mutual Editors</th>\n",
       "      <th>Num Non-Revert Edits</th>\n",
       "    </tr>\n",
       "    <tr>\n",
       "      <th>Title_ID</th>\n",
       "      <th></th>\n",
       "      <th></th>\n",
       "      <th></th>\n",
       "      <th></th>\n",
       "      <th></th>\n",
       "      <th></th>\n",
       "      <th></th>\n",
       "    </tr>\n",
       "  </thead>\n",
       "  <tbody>\n",
       "    <tr>\n",
       "      <th>0</th>\n",
       "      <td>Blackboard</td>\n",
       "      <td>0</td>\n",
       "      <td>2</td>\n",
       "      <td>0</td>\n",
       "      <td>1</td>\n",
       "      <td>0</td>\n",
       "      <td>2</td>\n",
       "    </tr>\n",
       "    <tr>\n",
       "      <th>1</th>\n",
       "      <td>Coimbatore_tile_company</td>\n",
       "      <td>0</td>\n",
       "      <td>2</td>\n",
       "      <td>0</td>\n",
       "      <td>2</td>\n",
       "      <td>0</td>\n",
       "      <td>2</td>\n",
       "    </tr>\n",
       "    <tr>\n",
       "      <th>2</th>\n",
       "      <td>The_moonstone_2</td>\n",
       "      <td>0</td>\n",
       "      <td>2</td>\n",
       "      <td>0</td>\n",
       "      <td>1</td>\n",
       "      <td>0</td>\n",
       "      <td>2</td>\n",
       "    </tr>\n",
       "    <tr>\n",
       "      <th>3</th>\n",
       "      <td>African_Hunting_Wasps</td>\n",
       "      <td>0</td>\n",
       "      <td>2</td>\n",
       "      <td>0</td>\n",
       "      <td>1</td>\n",
       "      <td>0</td>\n",
       "      <td>2</td>\n",
       "    </tr>\n",
       "    <tr>\n",
       "      <th>4</th>\n",
       "      <td>Morgan_Sheardown</td>\n",
       "      <td>0</td>\n",
       "      <td>2</td>\n",
       "      <td>0</td>\n",
       "      <td>1</td>\n",
       "      <td>0</td>\n",
       "      <td>2</td>\n",
       "    </tr>\n",
       "  </tbody>\n",
       "</table>\n",
       "</div>"
      ],
      "text/plain": [
       "                            Title  M-Statistic  Num Edits  Num Reverts  \\\n",
       "Title_ID                                                                 \n",
       "0                      Blackboard            0          2            0   \n",
       "1         Coimbatore_tile_company            0          2            0   \n",
       "2                 The_moonstone_2            0          2            0   \n",
       "3           African_Hunting_Wasps            0          2            0   \n",
       "4                Morgan_Sheardown            0          2            0   \n",
       "\n",
       "          Num Editors  Num Mutual Editors  Num Non-Revert Edits  \n",
       "Title_ID                                                         \n",
       "0                   1                   0                     2  \n",
       "1                   2                   0                     2  \n",
       "2                   1                   0                     2  \n",
       "3                   1                   0                     2  \n",
       "4                   1                   0                     2  "
      ]
     },
     "execution_count": 3,
     "metadata": {},
     "output_type": "execute_result"
    }
   ],
   "source": [
    "m_stat_df.head()"
   ]
  },
  {
   "cell_type": "markdown",
   "metadata": {},
   "source": [
    "##### Number of Pages"
   ]
  },
  {
   "cell_type": "code",
   "execution_count": 4,
   "metadata": {},
   "outputs": [
    {
     "data": {
      "text/plain": [
       "4644538"
      ]
     },
     "execution_count": 4,
     "metadata": {},
     "output_type": "execute_result"
    }
   ],
   "source": [
    "m_stat_df.shape[0]"
   ]
  },
  {
   "cell_type": "markdown",
   "metadata": {},
   "source": [
    "##### Number of Pages with Reverts"
   ]
  },
  {
   "cell_type": "code",
   "execution_count": 11,
   "metadata": {},
   "outputs": [
    {
     "data": {
      "text/plain": [
       "1481874"
      ]
     },
     "execution_count": 11,
     "metadata": {},
     "output_type": "execute_result"
    }
   ],
   "source": [
    "reverts_mask = m_stat_df['Num Reverts'] > 0\n",
    "m_stat_df[reverts_mask].shape[0]"
   ]
  },
  {
   "cell_type": "markdown",
   "metadata": {},
   "source": [
    "##### Most Number of Edits Overall"
   ]
  },
  {
   "cell_type": "code",
   "execution_count": 12,
   "metadata": {},
   "outputs": [
    {
     "data": {
      "text/plain": [
       "43650"
      ]
     },
     "execution_count": 12,
     "metadata": {},
     "output_type": "execute_result"
    }
   ],
   "source": [
    "m_stat_df['Num Edits'].max()"
   ]
  },
  {
   "cell_type": "markdown",
   "metadata": {},
   "source": [
    "##### Average Number of Edits (Including Reverts) for Pages with Reverts (fPwR)"
   ]
  },
  {
   "cell_type": "code",
   "execution_count": 63,
   "metadata": {},
   "outputs": [
    {
     "data": {
      "text/plain": [
       "123.39636568291232"
      ]
     },
     "execution_count": 63,
     "metadata": {},
     "output_type": "execute_result"
    }
   ],
   "source": [
    "m_stat_df[reverts_mask]['Num Edits'].mean()"
   ]
  },
  {
   "cell_type": "markdown",
   "metadata": {},
   "source": [
    "##### Average Number of Reverts fPwR"
   ]
  },
  {
   "cell_type": "code",
   "execution_count": 64,
   "metadata": {},
   "outputs": [
    {
     "data": {
      "text/plain": [
       "13.24227768352775"
      ]
     },
     "execution_count": 64,
     "metadata": {},
     "output_type": "execute_result"
    }
   ],
   "source": [
    "m_stat_df[reverts_mask]['Num Reverts'].mean()"
   ]
  },
  {
   "cell_type": "markdown",
   "metadata": {},
   "source": [
    "##### Max Number of Reverts fPwR"
   ]
  },
  {
   "cell_type": "code",
   "execution_count": 65,
   "metadata": {},
   "outputs": [
    {
     "data": {
      "text/plain": [
       "14630"
      ]
     },
     "execution_count": 65,
     "metadata": {},
     "output_type": "execute_result"
    }
   ],
   "source": [
    "m_stat_df[reverts_mask]['Num Reverts'].max()"
   ]
  },
  {
   "cell_type": "markdown",
   "metadata": {},
   "source": [
    "##### Average Number of Mutual Editors fPwR"
   ]
  },
  {
   "cell_type": "code",
   "execution_count": 67,
   "metadata": {},
   "outputs": [
    {
     "data": {
      "text/plain": [
       "0.43433044914749835"
      ]
     },
     "execution_count": 67,
     "metadata": {},
     "output_type": "execute_result"
    }
   ],
   "source": [
    "m_stat_df[reverts_mask]['Num Mutual Editors'].mean()"
   ]
  },
  {
   "cell_type": "markdown",
   "metadata": {},
   "source": [
    "##### Most Number of Mutual Editors fPwR"
   ]
  },
  {
   "cell_type": "code",
   "execution_count": 68,
   "metadata": {},
   "outputs": [
    {
     "data": {
      "text/plain": [
       "355"
      ]
     },
     "execution_count": 68,
     "metadata": {},
     "output_type": "execute_result"
    }
   ],
   "source": [
    "m_stat_df[reverts_mask]['Num Mutual Editors'].max()"
   ]
  },
  {
   "cell_type": "markdown",
   "metadata": {},
   "source": [
    "##### Average Number of Editors fPwR"
   ]
  },
  {
   "cell_type": "code",
   "execution_count": 69,
   "metadata": {},
   "outputs": [
    {
     "data": {
      "text/plain": [
       "60.42453406969823"
      ]
     },
     "execution_count": 69,
     "metadata": {},
     "output_type": "execute_result"
    }
   ],
   "source": [
    "m_stat_df[reverts_mask]['Num Editors'].mean()"
   ]
  },
  {
   "cell_type": "markdown",
   "metadata": {},
   "source": [
    "##### Most Number of Editors fPwR"
   ]
  },
  {
   "cell_type": "code",
   "execution_count": 70,
   "metadata": {},
   "outputs": [
    {
     "data": {
      "text/plain": [
       "13784"
      ]
     },
     "execution_count": 70,
     "metadata": {},
     "output_type": "execute_result"
    }
   ],
   "source": [
    "m_stat_df[reverts_mask]['Num Editors'].max()"
   ]
  },
  {
   "cell_type": "markdown",
   "metadata": {},
   "source": [
    "##### Number of Controversial Pages"
   ]
  },
  {
   "cell_type": "code",
   "execution_count": 71,
   "metadata": {},
   "outputs": [
    {
     "data": {
      "text/plain": [
       "25548"
      ]
     },
     "execution_count": 71,
     "metadata": {},
     "output_type": "execute_result"
    }
   ],
   "source": [
    "(m_stat_df[reverts_mask]['M-Statistic'] > 1000).sum()"
   ]
  },
  {
   "cell_type": "markdown",
   "metadata": {},
   "source": [
    "##### Average Number of Mutual Editors from Controversial Pages"
   ]
  },
  {
   "cell_type": "code",
   "execution_count": 73,
   "metadata": {},
   "outputs": [
    {
     "data": {
      "text/plain": [
       "10.566306560200408"
      ]
     },
     "execution_count": 73,
     "metadata": {},
     "output_type": "execute_result"
    }
   ],
   "source": [
    "m_stat_df[controversial_mask]['Num Mutual Editors'].mean()"
   ]
  },
  {
   "cell_type": "markdown",
   "metadata": {},
   "source": [
    "##### Average Number of Editors from Controversial Pages"
   ]
  },
  {
   "cell_type": "code",
   "execution_count": 74,
   "metadata": {},
   "outputs": [
    {
     "data": {
      "text/plain": [
       "834.6373884452795"
      ]
     },
     "execution_count": 74,
     "metadata": {},
     "output_type": "execute_result"
    }
   ],
   "source": [
    "m_stat_df[controversial_mask]['Num Editors'].mean()"
   ]
  },
  {
   "cell_type": "markdown",
   "metadata": {},
   "source": [
    "##### Average Number of Edits (Including Reverts) from Controversial Pages"
   ]
  },
  {
   "cell_type": "code",
   "execution_count": 75,
   "metadata": {},
   "outputs": [
    {
     "data": {
      "text/plain": [
       "1956.2006810709254"
      ]
     },
     "execution_count": 75,
     "metadata": {},
     "output_type": "execute_result"
    }
   ],
   "source": [
    "m_stat_df[controversial_mask]['Num Edits'].mean()"
   ]
  },
  {
   "cell_type": "markdown",
   "metadata": {},
   "source": [
    "##### Average Number of Purely Reverts from Controversial Pages "
   ]
  },
  {
   "cell_type": "code",
   "execution_count": 13,
   "metadata": {},
   "outputs": [
    {
     "data": {
      "text/plain": [
       "356.4336542977924"
      ]
     },
     "execution_count": 13,
     "metadata": {},
     "output_type": "execute_result"
    }
   ],
   "source": [
    "m_stat_df[controversial_mask]['Num Reverts'].mean()"
   ]
  },
  {
   "cell_type": "markdown",
   "metadata": {},
   "source": [
    "##### Average and Median M-Statistic Across All Articles"
   ]
  },
  {
   "cell_type": "code",
   "execution_count": 9,
   "metadata": {},
   "outputs": [
    {
     "data": {
      "text/plain": [
       "(195.43117657773496, 0.0)"
      ]
     },
     "execution_count": 9,
     "metadata": {},
     "output_type": "execute_result"
    }
   ],
   "source": [
    "m_stat_df['M-Statistic'].mean(), m_stat_df['M-Statistic'].median()"
   ]
  },
  {
   "cell_type": "markdown",
   "metadata": {},
   "source": [
    "##### Average and Median M-Statistic for Articles with Reverts"
   ]
  },
  {
   "cell_type": "code",
   "execution_count": 15,
   "metadata": {},
   "outputs": [
    {
     "data": {
      "text/plain": [
       "(612.5267910767042, 0.0)"
      ]
     },
     "execution_count": 15,
     "metadata": {},
     "output_type": "execute_result"
    }
   ],
   "source": [
    "m_stat_df[reverts_mask]['M-Statistic'].mean(), m_stat_df[reverts_mask]['M-Statistic'].median()"
   ]
  },
  {
   "cell_type": "markdown",
   "metadata": {},
   "source": [
    "##### Average and Median M-Statistic Across Controversial Articles"
   ]
  },
  {
   "cell_type": "code",
   "execution_count": 16,
   "metadata": {},
   "outputs": [
    {
     "data": {
      "text/plain": [
       "(34847.64549084077, 3650.0)"
      ]
     },
     "execution_count": 16,
     "metadata": {},
     "output_type": "execute_result"
    }
   ],
   "source": [
    "m_stat_df[controversial_mask]['M-Statistic'].mean(), m_stat_df[controversial_mask]['M-Statistic'].median()"
   ]
  },
  {
   "cell_type": "markdown",
   "metadata": {},
   "source": [
    "##### Number of M-Statistic Divisions"
   ]
  },
  {
   "cell_type": "code",
   "execution_count": 22,
   "metadata": {},
   "outputs": [
    {
     "data": {
      "text/plain": [
       "(4495961, 148577, 25548)"
      ]
     },
     "execution_count": 22,
     "metadata": {},
     "output_type": "execute_result"
    }
   ],
   "source": [
    "zero_m_stat_mask = m_stat_df['M-Statistic'] == 0\n",
    "pos_m_stat_mask = m_stat_df['M-Statistic'] > 0\n",
    "m_stat_df[zero_m_stat_mask].shape[0], m_stat_df[pos_m_stat_mask].shape[0], m_stat_df[controversial_mask].shape[0]"
   ]
  },
  {
   "cell_type": "code",
   "execution_count": 23,
   "metadata": {},
   "outputs": [
    {
     "data": {
      "text/plain": [
       "0.005682433633209897"
      ]
     },
     "execution_count": 23,
     "metadata": {},
     "output_type": "execute_result"
    }
   ],
   "source": [
    "# Proportion\n",
    "m_stat_df[controversial_mask].shape[0] / m_stat_df[zero_m_stat_mask].shape[0]"
   ]
  },
  {
   "cell_type": "code",
   "execution_count": 88,
   "metadata": {},
   "outputs": [],
   "source": [
    "m_stat_df = m_stat_df.sort_values(['M-Statistic', 'Num Edits',\n",
    "                                   'Num Reverts', 'Num Editors',\n",
    "                                   'Num Mutual Editors',\n",
    "                                   'Num Non-Revert Edits', 'Title'])"
   ]
  },
  {
   "cell_type": "markdown",
   "metadata": {},
   "source": [
    "##### Top 20 M-Statistics"
   ]
  },
  {
   "cell_type": "code",
   "execution_count": 89,
   "metadata": {},
   "outputs": [
    {
     "data": {
      "text/html": [
       "<div>\n",
       "<style scoped>\n",
       "    .dataframe tbody tr th:only-of-type {\n",
       "        vertical-align: middle;\n",
       "    }\n",
       "\n",
       "    .dataframe tbody tr th {\n",
       "        vertical-align: top;\n",
       "    }\n",
       "\n",
       "    .dataframe thead th {\n",
       "        text-align: right;\n",
       "    }\n",
       "</style>\n",
       "<table border=\"1\" class=\"dataframe\">\n",
       "  <thead>\n",
       "    <tr style=\"text-align: right;\">\n",
       "      <th></th>\n",
       "      <th>Title</th>\n",
       "      <th>M-Statistic</th>\n",
       "    </tr>\n",
       "  </thead>\n",
       "  <tbody>\n",
       "    <tr>\n",
       "      <th>0</th>\n",
       "      <td>George_W._Bush</td>\n",
       "      <td>34813075</td>\n",
       "    </tr>\n",
       "    <tr>\n",
       "      <th>1</th>\n",
       "      <td>List_of_World_Wrestling_Entertainment_employees</td>\n",
       "      <td>21728308</td>\n",
       "    </tr>\n",
       "    <tr>\n",
       "      <th>2</th>\n",
       "      <td>Anarchism</td>\n",
       "      <td>20108760</td>\n",
       "    </tr>\n",
       "    <tr>\n",
       "      <th>3</th>\n",
       "      <td>Muhammad</td>\n",
       "      <td>13696900</td>\n",
       "    </tr>\n",
       "    <tr>\n",
       "      <th>4</th>\n",
       "      <td>Barack_Obama</td>\n",
       "      <td>10713048</td>\n",
       "    </tr>\n",
       "    <tr>\n",
       "      <th>5</th>\n",
       "      <td>Global_warming</td>\n",
       "      <td>9387070</td>\n",
       "    </tr>\n",
       "    <tr>\n",
       "      <th>6</th>\n",
       "      <td>Circumcision</td>\n",
       "      <td>8561498</td>\n",
       "    </tr>\n",
       "    <tr>\n",
       "      <th>7</th>\n",
       "      <td>United_States</td>\n",
       "      <td>7448470</td>\n",
       "    </tr>\n",
       "    <tr>\n",
       "      <th>8</th>\n",
       "      <td>Jesus</td>\n",
       "      <td>7403452</td>\n",
       "    </tr>\n",
       "    <tr>\n",
       "      <th>9</th>\n",
       "      <td>Michael_Jackson</td>\n",
       "      <td>6798324</td>\n",
       "    </tr>\n",
       "    <tr>\n",
       "      <th>10</th>\n",
       "      <td>Race_and_intelligence</td>\n",
       "      <td>6266760</td>\n",
       "    </tr>\n",
       "    <tr>\n",
       "      <th>11</th>\n",
       "      <td>Christianity</td>\n",
       "      <td>5912382</td>\n",
       "    </tr>\n",
       "    <tr>\n",
       "      <th>12</th>\n",
       "      <td>Islam</td>\n",
       "      <td>5674900</td>\n",
       "    </tr>\n",
       "    <tr>\n",
       "      <th>13</th>\n",
       "      <td>Adolf_Hitler</td>\n",
       "      <td>5352642</td>\n",
       "    </tr>\n",
       "    <tr>\n",
       "      <th>14</th>\n",
       "      <td>Falun_Gong</td>\n",
       "      <td>4498520</td>\n",
       "    </tr>\n",
       "    <tr>\n",
       "      <th>15</th>\n",
       "      <td>Chiropractic</td>\n",
       "      <td>4420364</td>\n",
       "    </tr>\n",
       "    <tr>\n",
       "      <th>16</th>\n",
       "      <td>September_11_attacks</td>\n",
       "      <td>4229020</td>\n",
       "    </tr>\n",
       "    <tr>\n",
       "      <th>17</th>\n",
       "      <td>2006_Lebanon_War</td>\n",
       "      <td>3980830</td>\n",
       "    </tr>\n",
       "    <tr>\n",
       "      <th>18</th>\n",
       "      <td>Wikipedia</td>\n",
       "      <td>3886632</td>\n",
       "    </tr>\n",
       "    <tr>\n",
       "      <th>19</th>\n",
       "      <td>Kosovo</td>\n",
       "      <td>3760680</td>\n",
       "    </tr>\n",
       "  </tbody>\n",
       "</table>\n",
       "</div>"
      ],
      "text/plain": [
       "                                              Title  M-Statistic\n",
       "0                                    George_W._Bush     34813075\n",
       "1   List_of_World_Wrestling_Entertainment_employees     21728308\n",
       "2                                         Anarchism     20108760\n",
       "3                                          Muhammad     13696900\n",
       "4                                      Barack_Obama     10713048\n",
       "5                                    Global_warming      9387070\n",
       "6                                      Circumcision      8561498\n",
       "7                                     United_States      7448470\n",
       "8                                             Jesus      7403452\n",
       "9                                   Michael_Jackson      6798324\n",
       "10                            Race_and_intelligence      6266760\n",
       "11                                     Christianity      5912382\n",
       "12                                            Islam      5674900\n",
       "13                                     Adolf_Hitler      5352642\n",
       "14                                       Falun_Gong      4498520\n",
       "15                                     Chiropractic      4420364\n",
       "16                             September_11_attacks      4229020\n",
       "17                                 2006_Lebanon_War      3980830\n",
       "18                                        Wikipedia      3886632\n",
       "19                                           Kosovo      3760680"
      ]
     },
     "execution_count": 89,
     "metadata": {},
     "output_type": "execute_result"
    }
   ],
   "source": [
    "m_stat_df.tail(20).iloc[::-1][['Title', 'M-Statistic']].reset_index(drop=True)"
   ]
  },
  {
   "cell_type": "markdown",
   "metadata": {},
   "source": [
    "##### Low 20 M-Statistics"
   ]
  },
  {
   "cell_type": "code",
   "execution_count": 269,
   "metadata": {},
   "outputs": [
    {
     "data": {
      "text/html": [
       "<div>\n",
       "<style scoped>\n",
       "    .dataframe tbody tr th:only-of-type {\n",
       "        vertical-align: middle;\n",
       "    }\n",
       "\n",
       "    .dataframe tbody tr th {\n",
       "        vertical-align: top;\n",
       "    }\n",
       "\n",
       "    .dataframe thead th {\n",
       "        text-align: right;\n",
       "    }\n",
       "</style>\n",
       "<table border=\"1\" class=\"dataframe\">\n",
       "  <thead>\n",
       "    <tr style=\"text-align: right;\">\n",
       "      <th></th>\n",
       "      <th>Title</th>\n",
       "      <th>M-Statistic</th>\n",
       "    </tr>\n",
       "    <tr>\n",
       "      <th>Title_ID</th>\n",
       "      <th></th>\n",
       "      <th></th>\n",
       "    </tr>\n",
       "  </thead>\n",
       "  <tbody>\n",
       "    <tr>\n",
       "      <th>1206026</th>\n",
       "      <td>!!Fuck_you!!</td>\n",
       "      <td>0</td>\n",
       "    </tr>\n",
       "    <tr>\n",
       "      <th>3518970</th>\n",
       "      <td>'Twas_in_the_Moon_of_Wintertime</td>\n",
       "      <td>0</td>\n",
       "    </tr>\n",
       "    <tr>\n",
       "      <th>1268573</th>\n",
       "      <td>(Come_Round_Here)_I'm_The_One_You_Need</td>\n",
       "      <td>0</td>\n",
       "    </tr>\n",
       "    <tr>\n",
       "      <th>2387671</th>\n",
       "      <td>(International)_Year_of_the_Dolphin</td>\n",
       "      <td>0</td>\n",
       "    </tr>\n",
       "    <tr>\n",
       "      <th>383058</th>\n",
       "      <td>(What_Did_I_Do_To_Be_So)_Black_and_Blue</td>\n",
       "      <td>0</td>\n",
       "    </tr>\n",
       "    <tr>\n",
       "      <th>477291</th>\n",
       "      <td>(Where_Were_You)_When_the_World_Stopped_Turning</td>\n",
       "      <td>0</td>\n",
       "    </tr>\n",
       "    <tr>\n",
       "      <th>1218434</th>\n",
       "      <td>(Who_Wrote)_The_Book_of_Love</td>\n",
       "      <td>0</td>\n",
       "    </tr>\n",
       "    <tr>\n",
       "      <th>2036926</th>\n",
       "      <td>1000_Chips_Delicious</td>\n",
       "      <td>0</td>\n",
       "    </tr>\n",
       "    <tr>\n",
       "      <th>96293</th>\n",
       "      <td>1000_Recordings_To_Hear_Before_You_Die</td>\n",
       "      <td>0</td>\n",
       "    </tr>\n",
       "    <tr>\n",
       "      <th>103944</th>\n",
       "      <td>1911_in_Denmark</td>\n",
       "      <td>0</td>\n",
       "    </tr>\n",
       "    <tr>\n",
       "      <th>887702</th>\n",
       "      <td>420BC</td>\n",
       "      <td>0</td>\n",
       "    </tr>\n",
       "    <tr>\n",
       "      <th>888036</th>\n",
       "      <td>69BC</td>\n",
       "      <td>0</td>\n",
       "    </tr>\n",
       "    <tr>\n",
       "      <th>26726</th>\n",
       "      <td>69th_parallel</td>\n",
       "      <td>0</td>\n",
       "    </tr>\n",
       "    <tr>\n",
       "      <th>385807</th>\n",
       "      <td>Big_Love_(song)</td>\n",
       "      <td>0</td>\n",
       "    </tr>\n",
       "    <tr>\n",
       "      <th>407758</th>\n",
       "      <td>Big☆Bang!!!</td>\n",
       "      <td>0</td>\n",
       "    </tr>\n",
       "    <tr>\n",
       "      <th>879950</th>\n",
       "      <td>Sex,_Pies_&amp;_Idiot_Scrapes</td>\n",
       "      <td>0</td>\n",
       "    </tr>\n",
       "    <tr>\n",
       "      <th>288901</th>\n",
       "      <td>Sexy_jutsu</td>\n",
       "      <td>0</td>\n",
       "    </tr>\n",
       "    <tr>\n",
       "      <th>1685662</th>\n",
       "      <td>Dead_Space_(video_game)</td>\n",
       "      <td>0</td>\n",
       "    </tr>\n",
       "    <tr>\n",
       "      <th>4482883</th>\n",
       "      <td>Bikini_Bottom</td>\n",
       "      <td>0</td>\n",
       "    </tr>\n",
       "    <tr>\n",
       "      <th>4632029</th>\n",
       "      <td>Married..._with_Children</td>\n",
       "      <td>0</td>\n",
       "    </tr>\n",
       "  </tbody>\n",
       "</table>\n",
       "</div>"
      ],
      "text/plain": [
       "                                                    Title  M-Statistic\n",
       "Title_ID                                                              \n",
       "1206026                                      !!Fuck_you!!            0\n",
       "3518970                   'Twas_in_the_Moon_of_Wintertime            0\n",
       "1268573            (Come_Round_Here)_I'm_The_One_You_Need            0\n",
       "2387671               (International)_Year_of_the_Dolphin            0\n",
       "383058            (What_Did_I_Do_To_Be_So)_Black_and_Blue            0\n",
       "477291    (Where_Were_You)_When_the_World_Stopped_Turning            0\n",
       "1218434                      (Who_Wrote)_The_Book_of_Love            0\n",
       "2036926                              1000_Chips_Delicious            0\n",
       "96293              1000_Recordings_To_Hear_Before_You_Die            0\n",
       "103944                                    1911_in_Denmark            0\n",
       "887702                                              420BC            0\n",
       "888036                                               69BC            0\n",
       "26726                                       69th_parallel            0\n",
       "385807                                    Big_Love_(song)            0\n",
       "407758                                        Big☆Bang!!!            0\n",
       "879950                          Sex,_Pies_&_Idiot_Scrapes            0\n",
       "288901                                         Sexy_jutsu            0\n",
       "1685662                           Dead_Space_(video_game)            0\n",
       "4482883                                     Bikini_Bottom            0\n",
       "4632029                          Married..._with_Children            0"
      ]
     },
     "execution_count": 269,
     "metadata": {},
     "output_type": "execute_result"
    }
   ],
   "source": [
    "low_titles = [\"!!Fuck_you!!\", \"(Who_Wrote)_The_Book_of_Love\", \"(Where_Were_You)_When_the_World_Stopped_Turning\",\n",
    "          \"(What_Did_I_Do_To_Be_So)_Black_and_Blue\", \"(Come_Round_Here)_I'm_The_One_You_Need\",\n",
    "          \"'Twas_in_the_Moon_of_Wintertime\", \"(International)_Year_of_the_Dolphin\",\n",
    "          \"Bikini_Bottom\", 'Fat_Dom\"_Gamiello', \"69th_parallel\",\n",
    "          \"1000_Chips_Delicious\", \"1000_Recordings_To_Hear_Before_You_Die\",\n",
    "          \"Dead_Space_(video_game)\", \"1911_in_Denmark\", \"69BC\", \"420BC\", \"Big_Love_(song)\",\n",
    "          \"Big☆Bang!!!\", \"Married..._with_Children\", \"Sex,_Pies_&_Idiot_Scrapes\", \"Sexy_jutsu\"]\n",
    "m_stat_df[['Title', 'M-Statistic']].loc[m_stat_df['Title'].isin(low_titles)]"
   ]
  },
  {
   "cell_type": "markdown",
   "metadata": {},
   "source": [
    "### Plot of Barack Obama over Time\n",
    "We can see certain spikes in the M-Statistic, which likely correlate to specific times of heavy editing."
   ]
  },
  {
   "cell_type": "code",
   "execution_count": 225,
   "metadata": {},
   "outputs": [],
   "source": [
    "obama_df = pd.read_csv('../data/out_m_stat/overtime-Barack-Obama.csv')\n",
    "obama_df['Date'] = pd.to_datetime(obama_df['Timestamp']).dt.date"
   ]
  },
  {
   "cell_type": "code",
   "execution_count": 227,
   "metadata": {},
   "outputs": [
    {
     "data": {
      "text/plain": [
       "<matplotlib.axes._subplots.AxesSubplot at 0x11c066828>"
      ]
     },
     "execution_count": 227,
     "metadata": {},
     "output_type": "execute_result"
    },
    {
     "data": {
      "image/png": "[encoded data removed]",
      "text/plain": [
       "<Figure size 432x288 with 1 Axes>"
      ]
     },
     "metadata": {
      "needs_background": "light"
     },
     "output_type": "display_data"
    }
   ],
   "source": [
    "obama_df.plot.line(x='Date', y='M-Statistic')"
   ]
  },
  {
   "cell_type": "markdown",
   "metadata": {},
   "source": [
    "### Plot of Space:-1999 over Time\n",
    "We can see certain spikes in the M-Statistic, which likely correlate to specific times of heavy editing."
   ]
  },
  {
   "cell_type": "code",
   "execution_count": 264,
   "metadata": {},
   "outputs": [],
   "source": [
    "aek_df = pd.read_csv('../data/out_m_stat/overtime-AEK-Athens-F.C.-season-2009–10.csv')\n",
    "aek_df['Date'] = pd.to_datetime(aek_df['Timestamp']).dt.date"
   ]
  },
  {
   "cell_type": "code",
   "execution_count": 265,
   "metadata": {},
   "outputs": [
    {
     "data": {
      "text/plain": [
       "<matplotlib.axes._subplots.AxesSubplot at 0x18a7ff278>"
      ]
     },
     "execution_count": 265,
     "metadata": {},
     "output_type": "execute_result"
    },
    {
     "data": {
      "image/png": "[encoded data removed]",
      "text/plain": [
       "<Figure size 432x288 with 1 Axes>"
      ]
     },
     "metadata": {
      "needs_background": "light"
     },
     "output_type": "display_data"
    }
   ],
   "source": [
    "aek_df.plot.line(x='Date', y='M-Statistic')"
   ]
  },
  {
   "cell_type": "markdown",
   "metadata": {},
   "source": [
    "### Plot of Anarchism over Time\n",
    "We can see certain spikes in the M-Statistic, which likely correlate to specific times of heavy editing."
   ]
  },
  {
   "cell_type": "code",
   "execution_count": 24,
   "metadata": {},
   "outputs": [],
   "source": [
    "ana_df = pd.read_csv('../data/out_m_stat/overtime-Anarchism.csv')\n",
    "ana_df['Date'] = pd.to_datetime(ana_df['Timestamp']).dt.date"
   ]
  },
  {
   "cell_type": "code",
   "execution_count": 28,
   "metadata": {},
   "outputs": [
    {
     "data": {
      "text/plain": [
       "<matplotlib.axes._subplots.AxesSubplot at 0x120d306a0>"
      ]
     },
     "execution_count": 28,
     "metadata": {},
     "output_type": "execute_result"
    },
    {
     "data": {
      "image/png": "[encoded data removed]",
      "text/plain": [
       "<Figure size 432x288 with 1 Axes>"
      ]
     },
     "metadata": {
      "needs_background": "light"
     },
     "output_type": "display_data"
    }
   ],
   "source": [
    "ana_df.plot.line(x='Date', y='M-Statistic')"
   ]
  },
  {
   "cell_type": "markdown",
   "metadata": {},
   "source": [
    "### Plot of Abortion over Time\n",
    "We can see certain spikes in the M-Statistic, which likely correlate to specific times of heavy editing."
   ]
  },
  {
   "cell_type": "code",
   "execution_count": 26,
   "metadata": {},
   "outputs": [],
   "source": [
    "abo_df = pd.read_csv('../data/out_m_stat/overtime-Abortion.csv')\n",
    "abo_df['Date'] = pd.to_datetime(abo_df['Timestamp']).dt.date"
   ]
  },
  {
   "cell_type": "code",
   "execution_count": 27,
   "metadata": {},
   "outputs": [
    {
     "data": {
      "text/plain": [
       "<matplotlib.axes._subplots.AxesSubplot at 0x120614400>"
      ]
     },
     "execution_count": 27,
     "metadata": {},
     "output_type": "execute_result"
    },
    {
     "data": {
      "image/png": "[encoded data removed]",
      "text/plain": [
       "<Figure size 432x288 with 1 Axes>"
      ]
     },
     "metadata": {
      "needs_background": "light"
     },
     "output_type": "display_data"
    }
   ],
   "source": [
    "abo_df.plot.line(x='Date', y='M-Statistic')"
   ]
  },
  {
   "cell_type": "code",
   "execution_count": 37,
   "metadata": {},
   "outputs": [
    {
     "data": {
      "text/plain": [
       "<matplotlib.axes._subplots.AxesSubplot at 0x127a98128>"
      ]
     },
     "execution_count": 37,
     "metadata": {},
     "output_type": "execute_result"
    },
    {
     "data": {
      "image/png": "[encoded data removed]",
      "text/plain": [
       "<Figure size 432x288 with 1 Axes>"
      ]
     },
     "metadata": {
      "needs_background": "light"
     },
     "output_type": "display_data"
    }
   ],
   "source": [
    "xd_1 = ana_df.rename(columns={'M-Statistic': 'Anarchism'})\n",
    "xd_2 = abo_df.rename(columns={'M-Statistic': 'Abortion'})\n",
    "\n",
    "ax = xd_1.plot.line(x='Date', y='Anarchism', logy=True, title='Log Growth of M-Statistic')\n",
    "xd_2.plot.line(x='Date', y='Abortion', ax=ax, logy=True)"
   ]
  },
  {
   "cell_type": "code",
   "execution_count": null,
   "metadata": {},
   "outputs": [],
   "source": []
  }
 ],
 "metadata": {
  "kernelspec": {
   "display_name": "Python 3",
   "language": "python",
   "name": "python3"
  },
  "language_info": {
   "codemirror_mode": {
    "name": "ipython",
    "version": 3
   },
   "file_extension": ".py",
   "mimetype": "text/x-python",
   "name": "python",
   "nbconvert_exporter": "python",
   "pygments_lexer": "ipython3",
   "version": "3.7.0"
  }
 },
 "nbformat": 4,
 "nbformat_minor": 4
}
